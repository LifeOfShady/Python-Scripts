{
 "cells": [
  {
   "cell_type": "code",
   "execution_count": 1,
   "metadata": {},
   "outputs": [],
   "source": [
    "import random\n",
    "\n",
    "suits = ('Hearts', 'Diamonds', 'Spades', 'Clubs')\n",
    "ranks = ('Two', 'Three', 'Four', 'Five', 'Six', 'Seven', 'Eight', 'Nine', 'Ten', 'Jack', 'Queen', 'King', 'Ace')\n",
    "values = {'Two':2, 'Three':3, 'Four':4, 'Five':5, 'Six':6, 'Seven':7, 'Eight':8, 'Nine':9, 'Ten':10, 'Jack':10,\n",
    "         'Queen':10, 'King':10, 'Ace':11}"
   ]
  },
  {
   "cell_type": "code",
   "execution_count": 20,
   "metadata": {},
   "outputs": [],
   "source": [
    "class Card:\n",
    "    \n",
    "    def __init__(self, suit, rank):\n",
    "        self.suit = suit\n",
    "        self.rank = rank\n",
    "    \n",
    "    def __str__(self):\n",
    "        return f\"{self.rank} of {self.suit}\""
   ]
  },
  {
   "cell_type": "code",
   "execution_count": 21,
   "metadata": {},
   "outputs": [
    {
     "name": "stdout",
     "output_type": "stream",
     "text": [
      "Queen of Spades\n"
     ]
    }
   ],
   "source": [
    "card1 = Card('Spades', 'Queen')\n",
    "print(card1)"
   ]
  },
  {
   "cell_type": "code",
   "execution_count": 22,
   "metadata": {},
   "outputs": [],
   "source": [
    "class Deck:\n",
    "    \n",
    "    def __init__(self):\n",
    "        self.deck = []  # start with an empty list\n",
    "        for suit in suits:\n",
    "            for rank in ranks:\n",
    "                self.deck.append(str(Card(suit,rank)))\n",
    "                                    \n",
    "    def __str__(self):\n",
    "        return f'{self.deck}'\n",
    "\n",
    "    def shuffle(self):\n",
    "        random.shuffle(self.deck)\n",
    "        \n",
    "    def deal(self):\n",
    "        pass"
   ]
  },
  {
   "cell_type": "code",
   "execution_count": 44,
   "metadata": {},
   "outputs": [
    {
     "name": "stdout",
     "output_type": "stream",
     "text": [
      "['Two of Hearts', 'Five of Spades', 'Seven of Spades', 'Five of Diamonds', 'Three of Diamonds', 'King of Hearts', 'Six of Hearts', 'Six of Spades', 'Four of Clubs', 'Queen of Diamonds', 'Queen of Clubs', 'Four of Hearts', 'Six of Clubs', 'Eight of Diamonds', 'Jack of Spades', 'Ace of Hearts', 'Nine of Spades', 'Ten of Diamonds', 'Eight of Clubs', 'Ace of Clubs', 'Two of Spades', 'Eight of Hearts', 'Jack of Clubs', 'Four of Spades', 'Three of Spades', 'Ace of Diamonds', 'Ten of Clubs', 'Nine of Clubs', 'Six of Diamonds', 'Eight of Spades', 'Five of Clubs', 'Seven of Hearts', 'Five of Hearts', 'Jack of Hearts', 'Seven of Diamonds', 'Three of Hearts', 'Nine of Diamonds', 'Seven of Clubs', 'Queen of Hearts', 'Two of Clubs', 'Ten of Spades', 'Nine of Hearts', 'Four of Diamonds', 'Ace of Spades', 'Jack of Diamonds', 'Three of Clubs', 'Queen of Spades', 'King of Diamonds', 'King of Spades', 'Two of Diamonds', 'Ten of Hearts', 'King of Clubs']\n"
     ]
    }
   ],
   "source": [
    "testdeck = Deck()\n",
    "Deck.shuffle(testdeck)\n",
    "print(testdeck)\n"
   ]
  },
  {
   "cell_type": "code",
   "execution_count": 64,
   "metadata": {},
   "outputs": [],
   "source": [
    "class Hand:\n",
    "    def __init__(self):\n",
    "        self.cards = []  # start with an empty list as we did in the Deck class\n",
    "        self.value = 0   # start with zero value\n",
    "        self.aces = 0    # add an attribute to keep track of aces\n",
    "    \n",
    "    def add_card(self,card):\n",
    "        self.cards.append(str(card))\n",
    "        self.value += values[card.rank]\n",
    "        return f'{self.value}'"
   ]
  },
  {
   "cell_type": "code",
   "execution_count": 68,
   "metadata": {},
   "outputs": [
    {
     "data": {
      "text/plain": [
       "'10'"
      ]
     },
     "execution_count": 68,
     "metadata": {},
     "output_type": "execute_result"
    }
   ],
   "source": [
    "card2 = Card('Spades', 'King')\n",
    "hand = Hand()\n",
    "hand.add_card(card2)"
   ]
  },
  {
   "cell_type": "code",
   "execution_count": null,
   "metadata": {},
   "outputs": [],
   "source": []
  }
 ],
 "metadata": {
  "kernelspec": {
   "display_name": "Python 3",
   "language": "python",
   "name": "python3"
  },
  "language_info": {
   "codemirror_mode": {
    "name": "ipython",
    "version": 3
   },
   "file_extension": ".py",
   "mimetype": "text/x-python",
   "name": "python",
   "nbconvert_exporter": "python",
   "pygments_lexer": "ipython3",
   "version": "3.7.4"
  }
 },
 "nbformat": 4,
 "nbformat_minor": 2
}
